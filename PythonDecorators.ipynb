{
 "cells": [
  {
   "cell_type": "code",
   "execution_count": 5,
   "metadata": {},
   "outputs": [
    {
     "name": "stdout",
     "output_type": "stream",
     "text": [
      "end of script, Thanks. Python is really tricky, watch out\n",
      "9\n"
     ]
    }
   ],
   "source": [
    "#Lets learn decorator. Its a very simple concept but very necessary to understand\n",
    "\n",
    "def mathFunction(var1):\n",
    "    return var1 * var1\n",
    "\n",
    "mathFunction = mathFunction\n",
    "\n",
    "print(\"end of script, Thanks. Python is really tricky, watch out\")\n",
    "\n",
    "print(mathFunction(3))\n",
    "\n"
   ]
  },
  {
   "cell_type": "code",
   "execution_count": null,
   "metadata": {},
   "outputs": [],
   "source": []
  }
 ],
 "metadata": {
  "kernelspec": {
   "display_name": "base",
   "language": "python",
   "name": "python3"
  },
  "language_info": {
   "codemirror_mode": {
    "name": "ipython",
    "version": 3
   },
   "file_extension": ".py",
   "mimetype": "text/x-python",
   "name": "python",
   "nbconvert_exporter": "python",
   "pygments_lexer": "ipython3",
   "version": "3.11.3"
  },
  "orig_nbformat": 4
 },
 "nbformat": 4,
 "nbformat_minor": 2
}
