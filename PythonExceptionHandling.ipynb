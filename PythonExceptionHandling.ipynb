{
 "cells": [
  {
   "cell_type": "code",
   "execution_count": 17,
   "metadata": {},
   "outputs": [
    {
     "name": "stdout",
     "output_type": "stream",
     "text": [
      "General error\n",
      "<class 'ValueError'>\n",
      "(\"invalid literal for int() with base 10: '1abc'\",)\n",
      "invalid literal for int() with base 10: '1abc'\n",
      "1\n",
      "End of program. Thank You\n"
     ]
    }
   ],
   "source": [
    "#Lets practice python exception handling. Python is easy but it takes time to learn new language. But I will win. \n",
    "\n",
    "while(True):\n",
    "    try:\n",
    "        userInput = input(\"Pls enter the integer value\")\n",
    "        print(int(userInput))\n",
    "        break\n",
    "    except Exception as ex :\n",
    "        print(\"General error\")\n",
    "        print(type(ex))\n",
    "        print(ex.args)\n",
    "        print(ex)\n",
    "    else:\n",
    "        print(\"Great you entered the correct value\")\n",
    "\n",
    "\n",
    "print(\"End of program. Thank You\")\n",
    "\n",
    "\n",
    "\n"
   ]
  },
  {
   "cell_type": "code",
   "execution_count": 11,
   "metadata": {},
   "outputs": [
    {
     "ename": "TypeError",
     "evalue": "unsupported operand type(s) for +: 'int' and 'str'",
     "output_type": "error",
     "traceback": [
      "\u001b[1;31m---------------------------------------------------------------------------\u001b[0m",
      "\u001b[1;31mTypeError\u001b[0m                                 Traceback (most recent call last)",
      "Cell \u001b[1;32mIn[11], line 1\u001b[0m\n\u001b[1;32m----> 1\u001b[0m \u001b[39m10\u001b[39m \u001b[39m+\u001b[39m \u001b[39m\"\u001b[39m\u001b[39m10\u001b[39m\u001b[39m\"\u001b[39m\n",
      "\u001b[1;31mTypeError\u001b[0m: unsupported operand type(s) for +: 'int' and 'str'"
     ]
    }
   ],
   "source": [
    "10 + \"10\""
   ]
  },
  {
   "cell_type": "code",
   "execution_count": 7,
   "metadata": {},
   "outputs": [
    {
     "name": "stdout",
     "output_type": "stream",
     "text": [
      "Exception occured ('division by zero',)\n",
      "<class 'ZeroDivisionError'>\n",
      "Program is ending. Thanks\n"
     ]
    }
   ],
   "source": [
    "#Lets revise/refresh exception handling in pyhton. \n",
    "try:\n",
    "    x = input(\"Enter value 1\")\n",
    "    y = input(\"Enter value 2\")\n",
    "\n",
    "    newValue = int(x)/int(y)\n",
    "except Exception as ex:\n",
    "    print(f\"Exception occured {ex.args}\")\n",
    "    print(type(ex))\n",
    "except ZeroDivisionError as ex1:\n",
    "    print(f\"Exception occured {ex.args}\")\n",
    "    print(type(ex))\n",
    "else:\n",
    "    print(f\"Division is {newValue}\")\n",
    "finally:\n",
    "    print(\"Program is ending. Thanks\")\n"
   ]
  },
  {
   "cell_type": "code",
   "execution_count": 2,
   "metadata": {},
   "outputs": [
    {
     "name": "stdout",
     "output_type": "stream",
     "text": [
      "from my Module:myFunction()\n",
      "Result of myMathFunction: 8\n",
      "from my Module:myFunction()\n"
     ]
    }
   ],
   "source": [
    "def myFunction():\n",
    "    print(\"from my Module:myFunction()\")\n",
    "\n",
    "def myAnotherFunction():\n",
    "    print(\"Hi from myAnotherFunction\")\n",
    "\n",
    "def myMathFunction(var1, var2):\n",
    "    return var1 + var2\n",
    "\n",
    "# Calling myFunction\n",
    "myFunction()\n",
    "\n",
    "# Calling myMathFunction with arguments\n",
    "result = myMathFunction(5, 3)\n",
    "print(\"Result of myMathFunction:\", result)\n",
    "\n",
    "# Calling myAnotherFunction\n",
    "#myAnotherFunction()\n",
    "\n",
    "# Calling myFunction again\n",
    "myFunction()"
   ]
  },
  {
   "cell_type": "code",
   "execution_count": null,
   "metadata": {},
   "outputs": [],
   "source": []
  }
 ],
 "metadata": {
  "kernelspec": {
   "display_name": "base",
   "language": "python",
   "name": "python3"
  },
  "language_info": {
   "codemirror_mode": {
    "name": "ipython",
    "version": 3
   },
   "file_extension": ".py",
   "mimetype": "text/x-python",
   "name": "python",
   "nbconvert_exporter": "python",
   "pygments_lexer": "ipython3",
   "version": "3.11.3"
  },
  "orig_nbformat": 4
 },
 "nbformat": 4,
 "nbformat_minor": 2
}
